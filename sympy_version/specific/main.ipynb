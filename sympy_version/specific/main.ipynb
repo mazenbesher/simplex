{
 "cells": [
  {
   "cell_type": "code",
   "execution_count": 8,
   "metadata": {
    "collapsed": false
   },
   "outputs": [
    {
     "name": "stdout",
     "output_type": "stream",
     "text": [
      "given LP\n"
     ]
    },
    {
     "data": {
      "image/png": "[encoded data removed]",
      "text/latex": [
       "$$x_{4} = - 2 x_{1} - 6 x_{3} + 10$$"
      ],
      "text/plain": [
       "x₄ = -2⋅x₁ - 6⋅x₃ + 10"
      ]
     },
     "metadata": {},
     "output_type": "display_data"
    },
    {
     "data": {
      "image/png": "[encoded data removed]",
      "text/latex": [
       "$$x_{5} = 2 x_{1} - 8 x_{2} - 4 x_{3} + 12$$"
      ],
      "text/plain": [
       "x₅ = 2⋅x₁ - 8⋅x₂ - 4⋅x₃ + 12"
      ]
     },
     "metadata": {},
     "output_type": "display_data"
    },
    {
     "data": {
      "image/png": "[encoded data removed]",
      "text/latex": [
       "$$x_{6} = - 3 x_{1} - 6 x_{2} - 5 x_{3} + 20$$"
      ],
      "text/plain": [
       "x₆ = -3⋅x₁ - 6⋅x₂ - 5⋅x₃ + 20"
      ]
     },
     "metadata": {},
     "output_type": "display_data"
    },
    {
     "data": {
      "image/png": "[encoded data removed]",
      "text/latex": [
       "$$z = 2 x_{1} + x_{2} + 3 x_{3}$$"
      ],
      "text/plain": [
       "z = 2⋅x₁ + x₂ + 3⋅x₃"
      ]
     },
     "metadata": {},
     "output_type": "display_data"
    },
    {
     "name": "stdout",
     "output_type": "stream",
     "text": [
      "------------------------------\n",
      "Step  0\n",
      "Unzulaessiges Dict\n"
     ]
    },
    {
     "data": {
      "image/png": "[encoded data removed]",
      "text/latex": [
       "$$eintretende = x_{3}$$"
      ],
      "text/plain": [
       "eintretende = x₃"
      ]
     },
     "metadata": {},
     "output_type": "display_data"
    },
    {
     "data": {
      "image/png": "[encoded data removed]",
      "text/latex": [
       "$$verlassende = x_{4}$$"
      ],
      "text/plain": [
       "verlassende = x₄"
      ]
     },
     "metadata": {},
     "output_type": "display_data"
    },
    {
     "data": {
      "image/png": "[encoded data removed]",
      "text/latex": [
       "$$x_{3} = - \\frac{x_{1}}{3} - \\frac{x_{4}}{6} + \\frac{5}{3}$$"
      ],
      "text/plain": [
       "       x₁   x₄   5\n",
       "x₃ = - ── - ── + ─\n",
       "       3    6    3"
      ]
     },
     "metadata": {},
     "output_type": "display_data"
    },
    {
     "data": {
      "image/png": "[encoded data removed]",
      "text/latex": [
       "$$x_{5} = \\frac{10 x_{1}}{3} - 8 x_{2} + \\frac{2 x_{4}}{3} + \\frac{16}{3}$$"
      ],
      "text/plain": [
       "     10⋅x₁          2⋅x₄   16\n",
       "x₅ = ───── - 8⋅x₂ + ──── + ──\n",
       "       3             3     3 "
      ]
     },
     "metadata": {},
     "output_type": "display_data"
    },
    {
     "data": {
      "image/png": "[encoded data removed]",
      "text/latex": [
       "$$x_{6} = - \\frac{4 x_{1}}{3} - 6 x_{2} + \\frac{5 x_{4}}{6} + \\frac{35}{3}$$"
      ],
      "text/plain": [
       "       4⋅x₁          5⋅x₄   35\n",
       "x₆ = - ──── - 6⋅x₂ + ──── + ──\n",
       "        3             6     3 "
      ]
     },
     "metadata": {},
     "output_type": "display_data"
    },
    {
     "data": {
      "image/png": "[encoded data removed]",
      "text/latex": [
       "$$z = x_{1} + x_{2} - \\frac{x_{4}}{2} + 5$$"
      ],
      "text/plain": [
       "              x₄    \n",
       "z = x₁ + x₂ - ── + 5\n",
       "              2     "
      ]
     },
     "metadata": {},
     "output_type": "display_data"
    },
    {
     "name": "stdout",
     "output_type": "stream",
     "text": [
      "------------------------------\n",
      "Step  1\n"
     ]
    },
    {
     "data": {
      "image/png": "[encoded data removed]",
      "text/latex": [
       "$$eintretende = x_{2}$$"
      ],
      "text/plain": [
       "eintretende = x₂"
      ]
     },
     "metadata": {},
     "output_type": "display_data"
    },
    {
     "data": {
      "image/png": "[encoded data removed]",
      "text/latex": [
       "$$verlassende = x_{5}$$"
      ],
      "text/plain": [
       "verlassende = x₅"
      ]
     },
     "metadata": {},
     "output_type": "display_data"
    },
    {
     "data": {
      "image/png": "[encoded data removed]",
      "text/latex": [
       "$$x_{2} = \\frac{5 x_{1}}{12} + \\frac{x_{4}}{12} - \\frac{x_{5}}{8} + \\frac{2}{3}$$"
      ],
      "text/plain": [
       "     5⋅x₁   x₄   x₅   2\n",
       "x₂ = ──── + ── - ── + ─\n",
       "      12    12   8    3"
      ]
     },
     "metadata": {},
     "output_type": "display_data"
    },
    {
     "data": {
      "image/png": "[encoded data removed]",
      "text/latex": [
       "$$x_{3} = - \\frac{x_{1}}{3} - \\frac{x_{4}}{6} + \\frac{5}{3}$$"
      ],
      "text/plain": [
       "       x₁   x₄   5\n",
       "x₃ = - ── - ── + ─\n",
       "       3    6    3"
      ]
     },
     "metadata": {},
     "output_type": "display_data"
    },
    {
     "data": {
      "image/png": "[encoded data removed]",
      "text/latex": [
       "$$x_{6} = - \\frac{23 x_{1}}{6} + \\frac{x_{4}}{3} + \\frac{3 x_{5}}{4} + \\frac{23}{3}$$"
      ],
      "text/plain": [
       "       23⋅x₁   x₄   3⋅x₅   23\n",
       "x₆ = - ───── + ── + ──── + ──\n",
       "         6     3     4     3 "
      ]
     },
     "metadata": {},
     "output_type": "display_data"
    },
    {
     "data": {
      "image/png": "[encoded data removed]",
      "text/latex": [
       "$$z = \\frac{17 x_{1}}{12} - \\frac{5 x_{4}}{12} - \\frac{x_{5}}{8} + \\frac{17}{3}$$"
      ],
      "text/plain": [
       "    17⋅x₁   5⋅x₄   x₅   17\n",
       "z = ───── - ──── - ── + ──\n",
       "      12     12    8    3 "
      ]
     },
     "metadata": {},
     "output_type": "display_data"
    },
    {
     "name": "stdout",
     "output_type": "stream",
     "text": [
      "------------------------------\n",
      "Step  2\n"
     ]
    },
    {
     "data": {
      "image/png": "[encoded data removed]",
      "text/latex": [
       "$$eintretende = x_{1}$$"
      ],
      "text/plain": [
       "eintretende = x₁"
      ]
     },
     "metadata": {},
     "output_type": "display_data"
    },
    {
     "data": {
      "image/png": "[encoded data removed]",
      "text/latex": [
       "$$verlassende = x_{6}$$"
      ],
      "text/plain": [
       "verlassende = x₆"
      ]
     },
     "metadata": {},
     "output_type": "display_data"
    },
    {
     "data": {
      "image/png": "[encoded data removed]",
      "text/latex": [
       "$$x_{1} = \\frac{2 x_{4}}{23} + \\frac{9 x_{5}}{46} - \\frac{6 x_{6}}{23} + 2$$"
      ],
      "text/plain": [
       "     2⋅x₄   9⋅x₅   6⋅x₆    \n",
       "x₁ = ──── + ──── - ──── + 2\n",
       "      23     46     23     "
      ]
     },
     "metadata": {},
     "output_type": "display_data"
    },
    {
     "data": {
      "image/png": "[encoded data removed]",
      "text/latex": [
       "$$x_{2} = \\frac{11 x_{4}}{92} - \\frac{x_{5}}{23} - \\frac{5 x_{6}}{46} + \\frac{3}{2}$$"
      ],
      "text/plain": [
       "     11⋅x₄   x₅   5⋅x₆   3\n",
       "x₂ = ───── - ── - ──── + ─\n",
       "       92    23    46    2"
      ]
     },
     "metadata": {},
     "output_type": "display_data"
    },
    {
     "data": {
      "image/png": "[encoded data removed]",
      "text/latex": [
       "$$x_{3} = - \\frac{9 x_{4}}{46} - \\frac{3 x_{5}}{46} + \\frac{2 x_{6}}{23} + 1$$"
      ],
      "text/plain": [
       "       9⋅x₄   3⋅x₅   2⋅x₆    \n",
       "x₃ = - ──── - ──── + ──── + 1\n",
       "        46     46     23     "
      ]
     },
     "metadata": {},
     "output_type": "display_data"
    },
    {
     "data": {
      "image/png": "[encoded data removed]",
      "text/latex": [
       "$$z = - \\frac{27 x_{4}}{92} + \\frac{7 x_{5}}{46} - \\frac{17 x_{6}}{46} + \\frac{17}{2}$$"
      ],
      "text/plain": [
       "      27⋅x₄   7⋅x₅   17⋅x₆   17\n",
       "z = - ───── + ──── - ───── + ──\n",
       "        92     46      46    2 "
      ]
     },
     "metadata": {},
     "output_type": "display_data"
    },
    {
     "name": "stdout",
     "output_type": "stream",
     "text": [
      "------------------------------\n",
      "Step  3\n"
     ]
    },
    {
     "data": {
      "image/png": "[encoded data removed]",
      "text/latex": [
       "$$eintretende = x_{5}$$"
      ],
      "text/plain": [
       "eintretende = x₅"
      ]
     },
     "metadata": {},
     "output_type": "display_data"
    },
    {
     "data": {
      "image/png": "[encoded data removed]",
      "text/latex": [
       "$$verlassende = x_{3}$$"
      ],
      "text/plain": [
       "verlassende = x₃"
      ]
     },
     "metadata": {},
     "output_type": "display_data"
    },
    {
     "data": {
      "image/png": "[encoded data removed]",
      "text/latex": [
       "$$x_{5} = - \\frac{46 x_{3}}{3} - 3 x_{4} + \\frac{4 x_{6}}{3} + \\frac{46}{3}$$"
      ],
      "text/plain": [
       "       46⋅x₃          4⋅x₆   46\n",
       "x₅ = - ───── - 3⋅x₄ + ──── + ──\n",
       "         3             3     3 "
      ]
     },
     "metadata": {},
     "output_type": "display_data"
    },
    {
     "data": {
      "image/png": "[encoded data removed]",
      "text/latex": [
       "$$x_{1} = - 3 x_{3} - \\frac{x_{4}}{2} + 5$$"
      ],
      "text/plain": [
       "             x₄    \n",
       "x₁ = -3⋅x₃ - ── + 5\n",
       "             2     "
      ]
     },
     "metadata": {},
     "output_type": "display_data"
    },
    {
     "data": {
      "image/png": "[encoded data removed]",
      "text/latex": [
       "$$x_{2} = \\frac{2 x_{3}}{3} + \\frac{x_{4}}{4} - \\frac{x_{6}}{6} + \\frac{5}{6}$$"
      ],
      "text/plain": [
       "     2⋅x₃   x₄   x₆   5\n",
       "x₂ = ──── + ── - ── + ─\n",
       "      3     4    6    6"
      ]
     },
     "metadata": {},
     "output_type": "display_data"
    },
    {
     "data": {
      "image/png": "[encoded data removed]",
      "text/latex": [
       "$$z = - \\frac{7 x_{3}}{3} - \\frac{3 x_{4}}{4} - \\frac{x_{6}}{6} + \\frac{65}{6}$$"
      ],
      "text/plain": [
       "      7⋅x₃   3⋅x₄   x₆   65\n",
       "z = - ──── - ──── - ── + ──\n",
       "       3      4     6    6 "
      ]
     },
     "metadata": {},
     "output_type": "display_data"
    },
    {
     "name": "stdout",
     "output_type": "stream",
     "text": [
      "------------------------------\n"
     ]
    }
   ],
   "source": [
    "from IPython.display import display\n",
    "import numpy as np\n",
    "from sympy import *\n",
    "\n",
    "# -----------------------------------------------------------------\n",
    "### Globlas ###\n",
    "init_printing()\n",
    "LIMIT = 100  # im Fall von kreisen\n",
    "ein, ver = var('eintretende verlassende')\n",
    "\n",
    "# Hilfsfunktionen\n",
    "base_zero = lambda X: [i - 1 for i in X]  # Wandel eine Liste in Basis 1 um (für die LP-Basis)\n",
    "\n",
    "\n",
    "# Eine Klasse um ein LP-Problem zu repräsentieren\n",
    "class LP:\n",
    "    def __init__(self, A, b, c, B):\n",
    "        self.A = A\n",
    "        self.b = b\n",
    "        self.c = c\n",
    "        self.B = B  # zur Basis 1 (nicht 0)\n",
    "\n",
    "# -----------------------------------------------------------------\n",
    "def sympy_simplex(lp):\n",
    "    ### define the variables ###\n",
    "    A, b, c, B = lp.A, lp.b, lp.c, lp.B\n",
    "    m , n = A.shape[0], A.shape[1]\n",
    "    z = symbols('z')\n",
    "    x = symbols(' '.join(['x' + str(i) for i in range(1, n+m+1)])) # 1 -> n+m\n",
    "\n",
    "    ### create rows ###\n",
    "    rows = []\n",
    "    for i in range(m):\n",
    "        row = Eq(x[i + n], int(b[i]))\n",
    "        nbv = [-1 * int(A[i,j]) * x[j] for j in range(n)]\n",
    "        for k in range(len(nbv)):\n",
    "            row = Eq(row.lhs, row.rhs + nbv[k])\n",
    "        rows.append(row)\n",
    "\n",
    "    ### create ziel ###\n",
    "    ziel = Eq(z, 0)\n",
    "    for i in range(len(c)):\n",
    "        ziel = Eq(ziel.lhs, ziel.rhs + int(c[i]) * x[i])\n",
    "\n",
    "    ### B and N ###\n",
    "    # assuming B at the start is the slack variables (i.e. Dict feasible)\n",
    "    N = [x[i] for i in range(n)]\n",
    "    B = [x[i + n] for i in range(m)]\n",
    "\n",
    "    ### show the given problem ###\n",
    "    print(\"given LP\")\n",
    "    for row in rows:\n",
    "        display(row)\n",
    "    display(ziel)\n",
    "    print(\"-\" * 30)\n",
    "\n",
    "    # -----------------------------------------------------------------\n",
    "    ### Solving ###\n",
    "    for i in range(LIMIT):\n",
    "        # eintretende Variable finden\n",
    "        # auswaehlen nach dem Teknik in der Vorlesung\n",
    "        # (d.h. var mit grosstem Koeffizeint)\n",
    "        eintretende = None\n",
    "        max_eintretende = -oo\n",
    "        for var, coeff in ziel.rhs.as_coefficients_dict().items():\n",
    "            # 1 is the first coeff i.e. the value of the ziel function\n",
    "            if var != 1 and coeff > 0 and coeff > max_eintretende:\n",
    "                max_eintretende = coeff\n",
    "                eintretende = var\n",
    "\n",
    "        # falls keien positive costs => optimal\n",
    "        if eintretende == None:\n",
    "            break\n",
    "\n",
    "        # verlassende Variable finden\n",
    "        verlassende = None\n",
    "        min_wert = +oo\n",
    "        min_row = None\n",
    "\n",
    "        for row in rows:\n",
    "            if row.has(eintretende):\n",
    "                new_row = row\n",
    "                for nbv in N:\n",
    "                    if nbv != eintretende:\n",
    "                        new_row = new_row.subs(nbv, 0)\n",
    "                wert = solve(new_row.rhs >= 0).as_set().right\n",
    "                if wert < min_wert:\n",
    "                    min_wert = wert\n",
    "                    min_row = row\n",
    "                    verlassende = row.lhs\n",
    "\n",
    "        # display eintretende und verlassende Variablen\n",
    "        print(\"Step \", i)\n",
    "        if i == 0: print(\"Unzulaessiges Dict\")\n",
    "        display(Eq(ein, eintretende))\n",
    "        display(Eq(ver, verlassende))\n",
    "\n",
    "        # die Formlen umsetzen und rows updaten\n",
    "        new_formel = Eq(eintretende, solve(min_row, eintretende)[0])\n",
    "        new_rows = [new_formel]\n",
    "        for row in rows:\n",
    "            if row.lhs != verlassende:\n",
    "                new_rows.append(\n",
    "                    Eq(row.lhs, row.rhs.subs(eintretende, new_formel.rhs))\n",
    "                )\n",
    "        rows = new_rows\n",
    "\n",
    "        # new ziel\n",
    "        ziel = Eq(z, ziel.rhs.subs(eintretende, new_formel.rhs))\n",
    "\n",
    "        # update B, N\n",
    "        B.remove(verlassende);\n",
    "        B.append(eintretende)\n",
    "        N.remove(eintretende);\n",
    "        N.append(verlassende)\n",
    "\n",
    "        # show current solution\n",
    "        for row in rows:\n",
    "            display(row)\n",
    "        display(ziel)\n",
    "        print(\"-\" * 30)\n",
    "\n",
    "# -------------------------------------------------------------------------------\n",
    "blatt2_aufgabe1 = LP(\n",
    "    np.matrix('2 0 6; -2 8 4; 3 6 5'),\n",
    "    np.matrix('10; 12; 20'),\n",
    "    np.matrix('2; 1; 3; 0; 0; 0'),\n",
    "    [4, 5, 6])\n",
    "\n",
    "sympy_simplex(blatt2_aufgabe1)"
   ]
  }
 ],
 "metadata": {
  "kernelspec": {
   "display_name": "Python [default]",
   "language": "python",
   "name": "python3"
  },
  "language_info": {
   "codemirror_mode": {
    "name": "ipython",
    "version": 3
   },
   "file_extension": ".py",
   "mimetype": "text/x-python",
   "name": "python",
   "nbconvert_exporter": "python",
   "pygments_lexer": "ipython3",
   "version": "3.5.2"
  }
 },
 "nbformat": 4,
 "nbformat_minor": 1
}
