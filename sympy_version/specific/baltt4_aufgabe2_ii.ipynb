{
 "cells": [
  {
   "cell_type": "code",
   "execution_count": 1,
   "metadata": {
    "collapsed": false
   },
   "outputs": [
    {
     "name": "stdout",
     "output_type": "stream",
     "text": [
      "given LP\n"
     ]
    },
    {
     "data": {
      "text/latex": [
       "$$x_{3} = x_{0} + 2 x_{1} + x_{2} - 12$$"
      ],
      "text/plain": [
       "x₃ = x₀ + 2⋅x₁ + x₂ - 12"
      ]
     },
     "metadata": {},
     "output_type": "execute_result"
    },
    {
     "data": {
      "text/latex": [
       "$$x_{4} = x_{0} + x_{1} + 2 x_{2} - 12$$"
      ],
      "text/plain": [
       "x₄ = x₀ + x₁ + 2⋅x₂ - 12"
      ]
     },
     "metadata": {},
     "output_type": "execute_result"
    },
    {
     "data": {
      "text/latex": [
       "$$x_{5} = x_{0} + x_{1} + x_{2} - 10$$"
      ],
      "text/plain": [
       "x₅ = x₀ + x₁ + x₂ - 10"
      ]
     },
     "metadata": {},
     "output_type": "execute_result"
    },
    {
     "data": {
      "text/latex": [
       "$$x_{6} = x_{0} - 3 x_{1} - 4 x_{2} + 60$$"
      ],
      "text/plain": [
       "x₆ = x₀ - 3⋅x₁ - 4⋅x₂ + 60"
      ]
     },
     "metadata": {},
     "output_type": "execute_result"
    },
    {
     "data": {
      "text/latex": [
       "$$x_{7} = x_{0} - x_{1} + 12$$"
      ],
      "text/plain": [
       "x₇ = x₀ - x₁ + 12"
      ]
     },
     "metadata": {},
     "output_type": "execute_result"
    },
    {
     "data": {
      "text/latex": [
       "$$z = - x_{0}$$"
      ],
      "text/plain": [
       "z = -x₀"
      ]
     },
     "metadata": {},
     "output_type": "execute_result"
    },
    {
     "name": "stdout",
     "output_type": "stream",
     "text": [
      "------------------------------\nStep  0\nUnzulaessiges Dict\n"
     ]
    },
    {
     "data": {
      "text/latex": [
       "$$eintretende = x_{0}$$"
      ],
      "text/plain": [
       "eintretende = x₀"
      ]
     },
     "metadata": {},
     "output_type": "execute_result"
    },
    {
     "data": {
      "text/latex": [
       "$$verlassende = x_{3}$$"
      ],
      "text/plain": [
       "verlassende = x₃"
      ]
     },
     "metadata": {},
     "output_type": "execute_result"
    },
    {
     "data": {
      "text/latex": [
       "$$x_{0} = - 2 x_{1} - x_{2} + x_{3} + 12$$"
      ],
      "text/plain": [
       "x₀ = -2⋅x₁ - x₂ + x₃ + 12"
      ]
     },
     "metadata": {},
     "output_type": "execute_result"
    },
    {
     "data": {
      "text/latex": [
       "$$x_{4} = - x_{1} + x_{2} + x_{3}$$"
      ],
      "text/plain": [
       "x₄ = -x₁ + x₂ + x₃"
      ]
     },
     "metadata": {},
     "output_type": "execute_result"
    },
    {
     "data": {
      "text/latex": [
       "$$x_{5} = - x_{1} + x_{3} + 2$$"
      ],
      "text/plain": [
       "x₅ = -x₁ + x₃ + 2"
      ]
     },
     "metadata": {},
     "output_type": "execute_result"
    },
    {
     "data": {
      "text/latex": [
       "$$x_{6} = - 5 x_{1} - 5 x_{2} + x_{3} + 72$$"
      ],
      "text/plain": [
       "x₆ = -5⋅x₁ - 5⋅x₂ + x₃ + 72"
      ]
     },
     "metadata": {},
     "output_type": "execute_result"
    },
    {
     "data": {
      "text/latex": [
       "$$x_{7} = - 3 x_{1} - x_{2} + x_{3} + 24$$"
      ],
      "text/plain": [
       "x₇ = -3⋅x₁ - x₂ + x₃ + 24"
      ]
     },
     "metadata": {},
     "output_type": "execute_result"
    },
    {
     "data": {
      "text/latex": [
       "$$z = 2 x_{1} + x_{2} - x_{3} - 12$$"
      ],
      "text/plain": [
       "z = 2⋅x₁ + x₂ - x₃ - 12"
      ]
     },
     "metadata": {},
     "output_type": "execute_result"
    },
    {
     "name": "stdout",
     "output_type": "stream",
     "text": [
      "------------------------------\nStep  1\n"
     ]
    },
    {
     "data": {
      "text/latex": [
       "$$eintretende = x_{1}$$"
      ],
      "text/plain": [
       "eintretende = x₁"
      ]
     },
     "metadata": {},
     "output_type": "execute_result"
    },
    {
     "data": {
      "text/latex": [
       "$$verlassende = x_{4}$$"
      ],
      "text/plain": [
       "verlassende = x₄"
      ]
     },
     "metadata": {},
     "output_type": "execute_result"
    },
    {
     "data": {
      "text/latex": [
       "$$x_{1} = x_{2} + x_{3} - x_{4}$$"
      ],
      "text/plain": [
       "x₁ = x₂ + x₃ - x₄"
      ]
     },
     "metadata": {},
     "output_type": "execute_result"
    },
    {
     "data": {
      "text/latex": [
       "$$x_{0} = - 3 x_{2} - x_{3} + 2 x_{4} + 12$$"
      ],
      "text/plain": [
       "x₀ = -3⋅x₂ - x₃ + 2⋅x₄ + 12"
      ]
     },
     "metadata": {},
     "output_type": "execute_result"
    },
    {
     "data": {
      "text/latex": [
       "$$x_{5} = - x_{2} + x_{4} + 2$$"
      ],
      "text/plain": [
       "x₅ = -x₂ + x₄ + 2"
      ]
     },
     "metadata": {},
     "output_type": "execute_result"
    },
    {
     "data": {
      "text/latex": [
       "$$x_{6} = - 10 x_{2} - 4 x_{3} + 5 x_{4} + 72$$"
      ],
      "text/plain": [
       "x₆ = -10⋅x₂ - 4⋅x₃ + 5⋅x₄ + 72"
      ]
     },
     "metadata": {},
     "output_type": "execute_result"
    },
    {
     "data": {
      "text/latex": [
       "$$x_{7} = - 4 x_{2} - 2 x_{3} + 3 x_{4} + 24$$"
      ],
      "text/plain": [
       "x₇ = -4⋅x₂ - 2⋅x₃ + 3⋅x₄ + 24"
      ]
     },
     "metadata": {},
     "output_type": "execute_result"
    },
    {
     "data": {
      "text/latex": [
       "$$z = 3 x_{2} + x_{3} - 2 x_{4} - 12$$"
      ],
      "text/plain": [
       "z = 3⋅x₂ + x₃ - 2⋅x₄ - 12"
      ]
     },
     "metadata": {},
     "output_type": "execute_result"
    },
    {
     "name": "stdout",
     "output_type": "stream",
     "text": [
      "------------------------------\nStep  2\n"
     ]
    },
    {
     "data": {
      "text/latex": [
       "$$eintretende = x_{2}$$"
      ],
      "text/plain": [
       "eintretende = x₂"
      ]
     },
     "metadata": {},
     "output_type": "execute_result"
    },
    {
     "data": {
      "text/latex": [
       "$$verlassende = x_{5}$$"
      ],
      "text/plain": [
       "verlassende = x₅"
      ]
     },
     "metadata": {},
     "output_type": "execute_result"
    },
    {
     "data": {
      "text/latex": [
       "$$x_{2} = x_{4} - x_{5} + 2$$"
      ],
      "text/plain": [
       "x₂ = x₄ - x₅ + 2"
      ]
     },
     "metadata": {},
     "output_type": "execute_result"
    },
    {
     "data": {
      "text/latex": [
       "$$x_{1} = x_{3} - x_{5} + 2$$"
      ],
      "text/plain": [
       "x₁ = x₃ - x₅ + 2"
      ]
     },
     "metadata": {},
     "output_type": "execute_result"
    },
    {
     "data": {
      "text/latex": [
       "$$x_{0} = - x_{3} - x_{4} + 3 x_{5} + 6$$"
      ],
      "text/plain": [
       "x₀ = -x₃ - x₄ + 3⋅x₅ + 6"
      ]
     },
     "metadata": {},
     "output_type": "execute_result"
    },
    {
     "data": {
      "text/latex": [
       "$$x_{6} = - 4 x_{3} - 5 x_{4} + 10 x_{5} + 52$$"
      ],
      "text/plain": [
       "x₆ = -4⋅x₃ - 5⋅x₄ + 10⋅x₅ + 52"
      ]
     },
     "metadata": {},
     "output_type": "execute_result"
    },
    {
     "data": {
      "text/latex": [
       "$$x_{7} = - 2 x_{3} - x_{4} + 4 x_{5} + 16$$"
      ],
      "text/plain": [
       "x₇ = -2⋅x₃ - x₄ + 4⋅x₅ + 16"
      ]
     },
     "metadata": {},
     "output_type": "execute_result"
    },
    {
     "data": {
      "text/latex": [
       "$$z = x_{3} + x_{4} - 3 x_{5} - 6$$"
      ],
      "text/plain": [
       "z = x₃ + x₄ - 3⋅x₅ - 6"
      ]
     },
     "metadata": {},
     "output_type": "execute_result"
    },
    {
     "name": "stdout",
     "output_type": "stream",
     "text": [
      "------------------------------\nStep  3\n"
     ]
    },
    {
     "data": {
      "text/latex": [
       "$$eintretende = x_{3}$$"
      ],
      "text/plain": [
       "eintretende = x₃"
      ]
     },
     "metadata": {},
     "output_type": "execute_result"
    },
    {
     "data": {
      "text/latex": [
       "$$verlassende = x_{0}$$"
      ],
      "text/plain": [
       "verlassende = x₀"
      ]
     },
     "metadata": {},
     "output_type": "execute_result"
    },
    {
     "data": {
      "text/latex": [
       "$$x_{3} = - x_{0} - x_{4} + 3 x_{5} + 6$$"
      ],
      "text/plain": [
       "x₃ = -x₀ - x₄ + 3⋅x₅ + 6"
      ]
     },
     "metadata": {},
     "output_type": "execute_result"
    },
    {
     "data": {
      "text/latex": [
       "$$x_{2} = x_{4} - x_{5} + 2$$"
      ],
      "text/plain": [
       "x₂ = x₄ - x₅ + 2"
      ]
     },
     "metadata": {},
     "output_type": "execute_result"
    },
    {
     "data": {
      "text/latex": [
       "$$x_{1} = - x_{0} - x_{4} + 2 x_{5} + 8$$"
      ],
      "text/plain": [
       "x₁ = -x₀ - x₄ + 2⋅x₅ + 8"
      ]
     },
     "metadata": {},
     "output_type": "execute_result"
    },
    {
     "data": {
      "text/latex": [
       "$$x_{6} = 4 x_{0} - x_{4} - 2 x_{5} + 28$$"
      ],
      "text/plain": [
       "x₆ = 4⋅x₀ - x₄ - 2⋅x₅ + 28"
      ]
     },
     "metadata": {},
     "output_type": "execute_result"
    },
    {
     "data": {
      "text/latex": [
       "$$x_{7} = 2 x_{0} + x_{4} - 2 x_{5} + 4$$"
      ],
      "text/plain": [
       "x₇ = 2⋅x₀ + x₄ - 2⋅x₅ + 4"
      ]
     },
     "metadata": {},
     "output_type": "execute_result"
    },
    {
     "data": {
      "text/latex": [
       "$$z = - x_{0}$$"
      ],
      "text/plain": [
       "z = -x₀"
      ]
     },
     "metadata": {},
     "output_type": "execute_result"
    },
    {
     "name": "stdout",
     "output_type": "stream",
     "text": [
      "------------------------------\n"
     ]
    }
   ],
   "source": [
    "\"\"\"1.Phase\"\"\"\n",
    "\n",
    "from IPython.display import display\n",
    "from sympy import *\n",
    "\n",
    "# -----------------------------------------------------------------\n",
    "### Globlas ###\n",
    "init_printing()\n",
    "LIMIT = 100 # im Fall von kreisen\n",
    "ein, ver = var('eintretende verlassende')\n",
    "\n",
    "# -----------------------------------------------------------------\n",
    "### LP ###\n",
    "z, x0, x1, x2, x3, x4, x5, x6, x7 = symbols(\n",
    "    \"\"\"z, x0, x1, x2, x3, x4, x5, x6, x7\"\"\")\n",
    "\n",
    "B = [x3, x4, x5, x6, x7]\n",
    "N = [x0, x1, x2]\n",
    "\n",
    "rows = [Eq(x3, -12 + 2 * x1 + 1 * x2 + x0),\n",
    "        Eq(x4, -12 +     x1 + 2 * x2 + x0),\n",
    "        Eq(x5, -10 +     x1 +     x2 + x0),\n",
    "        Eq(x6, 60 - 3 *  x1 - 4 * x2 + x0),\n",
    "        Eq(x7, 12 -      x1          + x0)]\n",
    "ziel = Eq(z, - x0)\n",
    "\n",
    "# show the given Hilfsproblem\n",
    "print(\"given LP\")\n",
    "for row in rows:\n",
    "    display(row)\n",
    "display(ziel)\n",
    "print(\"-\"*30)\n",
    "\n",
    "# ------------------------------------------------------------------\n",
    "### Solving ###\n",
    "eintretende = x0\n",
    "\n",
    "for i in range(LIMIT):\n",
    "    # eintretende Variable finden\n",
    "    # auswaehlen nach dem Teknik in der Vorlesung \n",
    "    # (d.h. var mit grosstem Koeffizeint)\n",
    "    if i != 0: # nicht in erstem Durchlauf (da hier unzulaessig)\n",
    "        eintretende = None\n",
    "        max_eintretende = -oo\n",
    "        for var, coeff in ziel.rhs.as_coefficients_dict().items():\n",
    "            # 1 is the first coeff i.e. the value of the ziel function\n",
    "            if var != 1 and  coeff > 0 and coeff > max_eintretende:\n",
    "                    max_eintretende = coeff\n",
    "                    eintretende = var\n",
    "\n",
    "    # falls keien positive costs => optimal\n",
    "    if eintretende == None:\n",
    "        break\n",
    "\n",
    "    # verlassende Variable finden\n",
    "    verlassende = None\n",
    "    min_wert = +oo\n",
    "    min_row = None\n",
    "\n",
    "    if i == 0: \n",
    "        # einfach definierne da im ersten Durchlauf Dich ist unzulaessig\n",
    "        # verlassende = \n",
    "        #       min([row.rhs.as_coefficients_dict()[1] for row in rows])\n",
    "        verlassende = x3\n",
    "        min_row = rows[0]\n",
    "    else:\n",
    "        for row in rows:\n",
    "            if row.has(eintretende):\n",
    "                new_row = row\n",
    "                for nbv in N:\n",
    "                    if nbv != eintretende:\n",
    "                        new_row = new_row.subs(nbv, 0)\n",
    "                wert = solve(new_row.rhs >= 0).as_set().right\n",
    "                if wert < min_wert:\n",
    "                    min_wert = wert\n",
    "                    min_row = row\n",
    "                    verlassende = row.lhs\n",
    "                    \n",
    "    # display eintretende und verlassende Variablen\n",
    "    print(\"Step \", i)\n",
    "    if i == 0: print(\"Unzulaessiges Dict\")\n",
    "    display(Eq(ein, eintretende))\n",
    "    display(Eq(ver, verlassende))\n",
    "\n",
    "    # die Formlen umsetzen und rows updaten\n",
    "    new_formel = Eq(eintretende, solve(min_row, eintretende)[0])\n",
    "    new_rows = [new_formel]\n",
    "    for row in rows:\n",
    "        if row.lhs != verlassende:\n",
    "            new_rows.append(\n",
    "                Eq(row.lhs, row.rhs.subs(eintretende, new_formel.rhs))\n",
    "            )\n",
    "    rows = new_rows\n",
    "\n",
    "    # new ziel\n",
    "    ziel = Eq(z, ziel.rhs.subs(eintretende, new_formel.rhs))\n",
    "\n",
    "    # update B, N\n",
    "    B.remove(verlassende); B.append(eintretende)\n",
    "    N.remove(eintretende); N.append(verlassende)\n",
    "\n",
    "    # show current solution\n",
    "    for row in rows:\n",
    "        display(row)\n",
    "    display(ziel)\n",
    "    print(\"-\"*30)"
   ]
  },
  {
   "cell_type": "code",
   "execution_count": null,
   "metadata": {},
   "outputs": [],
   "source": [
    ""
   ]
  }
 ],
 "metadata": {
  "anaconda-cloud": {},
  "kernelspec": {
   "display_name": "Python [default]",
   "language": "python",
   "name": "python3"
  },
  "language_info": {
   "codemirror_mode": {
    "name": "ipython",
    "version": 3.0
   },
   "file_extension": ".py",
   "mimetype": "text/x-python",
   "name": "python",
   "nbconvert_exporter": "python",
   "pygments_lexer": "ipython3",
   "version": "3.5.2"
  }
 },
 "nbformat": 4,
 "nbformat_minor": 0
}